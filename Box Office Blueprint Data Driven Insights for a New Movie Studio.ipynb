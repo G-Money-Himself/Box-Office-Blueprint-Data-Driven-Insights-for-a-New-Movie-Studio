{
 "cells": [
  {
   "cell_type": "markdown",
   "metadata": {},
   "source": [
    "# Box Office Blueprint: Data-Driven Insights for a New Movie Studio"
   ]
  },
  {
   "cell_type": "markdown",
   "metadata": {},
   "source": [
    "## Business Problem \n",
    "\n",
    "My company now sees all the big companies creating original video content and they want to get in on the fun. And have decided to create a new movie studio, but they don’t know anything about creating movies. So I will be exploring what types of films are currently doing the best at the box office and translate those findings into actionable insights that the head of the company's new movie studio can use to help decide what type of films to create."
   ]
  },
  {
   "cell_type": "markdown",
   "metadata": {},
   "source": [
    "## Objectives\n",
    "\n",
    "I will be using a **Linear Regression Model** as we have numeric target variables such as **domestic_gross**, **foreign_gross** and **total_gross**. Linear regression is a fundamental predictive modeling technique suitable for estimating continuous outcomes based on one or more independent variables (e.g., year, studio). Below are the objectives I intend to focus on;\n",
    "\n",
    "**1. Predict Domestic Box Office Revenue Based on Year and Studio**\n",
    "- The goal is to  estimate how much a movie will earn in the U.S. based on its release year and the studio that produced it.\n",
    "\n",
    "**2. Estimate Foreign Gross Earnings Using Domestic Performance**\n",
    "- The goal is to use domestic gross as a predictor of international success.\n",
    "\n",
    "**3. Predict Total Gross Revenue (Domestic + Foreign) Using Available Features**\n",
    "- The goal is to create a model that predicts total revenue based on year, studio, and domestic gross.\n",
    "\n",
    "**4. Analyze the Trend of Domestic Revenue Over Time**\n",
    "- The goal is to use year as an independent variable to model trends in U.S. box office revenue.\n",
    "\n",
    "**5. Compare Studio Impact on Revenue While Controlling for Year\n",
    "- The goal is to measure how different studios affect revenue, accounting for changes over time."
   ]
  },
  {
   "cell_type": "code",
   "execution_count": 122,
   "metadata": {},
   "outputs": [],
   "source": [
    "import pandas as pd\n",
    "import numpy as np\n",
    "import matplotlib.pyplot as plt\n",
    "import seaborn as sns\n",
    "import sqlite3\n",
    "import zipfile\n",
    "import os\n",
    "\n",
    "%matplotlib inline"
   ]
  },
  {
   "cell_type": "markdown",
   "metadata": {},
   "source": [
    "## Data Understanding\n",
    "\n",
    "We load the box office data into a pandas DataFrame and preview the first few rows to understand its structure."
   ]
  },
  {
   "cell_type": "code",
   "execution_count": 123,
   "metadata": {},
   "outputs": [],
   "source": [
    "# Load the dataset\n",
    "file_path = 'bom.movie_gross.csv'\n",
    "df = pd.read_csv(file_path)"
   ]
  },
  {
   "cell_type": "code",
   "execution_count": 124,
   "metadata": {},
   "outputs": [
    {
     "data": {
      "text/html": [
       "<div>\n",
       "<style scoped>\n",
       "    .dataframe tbody tr th:only-of-type {\n",
       "        vertical-align: middle;\n",
       "    }\n",
       "\n",
       "    .dataframe tbody tr th {\n",
       "        vertical-align: top;\n",
       "    }\n",
       "\n",
       "    .dataframe thead th {\n",
       "        text-align: right;\n",
       "    }\n",
       "</style>\n",
       "<table border=\"1\" class=\"dataframe\">\n",
       "  <thead>\n",
       "    <tr style=\"text-align: right;\">\n",
       "      <th></th>\n",
       "      <th>title</th>\n",
       "      <th>studio</th>\n",
       "      <th>domestic_gross</th>\n",
       "      <th>foreign_gross</th>\n",
       "      <th>year</th>\n",
       "    </tr>\n",
       "  </thead>\n",
       "  <tbody>\n",
       "    <tr>\n",
       "      <th>0</th>\n",
       "      <td>Toy Story 3</td>\n",
       "      <td>BV</td>\n",
       "      <td>415000000.0</td>\n",
       "      <td>652000000</td>\n",
       "      <td>2010</td>\n",
       "    </tr>\n",
       "    <tr>\n",
       "      <th>1</th>\n",
       "      <td>Alice in Wonderland (2010)</td>\n",
       "      <td>BV</td>\n",
       "      <td>334200000.0</td>\n",
       "      <td>691300000</td>\n",
       "      <td>2010</td>\n",
       "    </tr>\n",
       "    <tr>\n",
       "      <th>2</th>\n",
       "      <td>Harry Potter and the Deathly Hallows Part 1</td>\n",
       "      <td>WB</td>\n",
       "      <td>296000000.0</td>\n",
       "      <td>664300000</td>\n",
       "      <td>2010</td>\n",
       "    </tr>\n",
       "    <tr>\n",
       "      <th>3</th>\n",
       "      <td>Inception</td>\n",
       "      <td>WB</td>\n",
       "      <td>292600000.0</td>\n",
       "      <td>535700000</td>\n",
       "      <td>2010</td>\n",
       "    </tr>\n",
       "    <tr>\n",
       "      <th>4</th>\n",
       "      <td>Shrek Forever After</td>\n",
       "      <td>P/DW</td>\n",
       "      <td>238700000.0</td>\n",
       "      <td>513900000</td>\n",
       "      <td>2010</td>\n",
       "    </tr>\n",
       "  </tbody>\n",
       "</table>\n",
       "</div>"
      ],
      "text/plain": [
       "                                         title studio  domestic_gross  \\\n",
       "0                                  Toy Story 3     BV     415000000.0   \n",
       "1                   Alice in Wonderland (2010)     BV     334200000.0   \n",
       "2  Harry Potter and the Deathly Hallows Part 1     WB     296000000.0   \n",
       "3                                    Inception     WB     292600000.0   \n",
       "4                          Shrek Forever After   P/DW     238700000.0   \n",
       "\n",
       "  foreign_gross  year  \n",
       "0     652000000  2010  \n",
       "1     691300000  2010  \n",
       "2     664300000  2010  \n",
       "3     535700000  2010  \n",
       "4     513900000  2010  "
      ]
     },
     "execution_count": 124,
     "metadata": {},
     "output_type": "execute_result"
    }
   ],
   "source": [
    "df.head()"
   ]
  },
  {
   "cell_type": "markdown",
   "metadata": {},
   "source": [
    "### Check for Missing Values\n",
    "\n",
    "We use `df.info()` and `df.isnull().sum()` to check the structure of the dataframe to identify missing values."
   ]
  },
  {
   "cell_type": "code",
   "execution_count": 125,
   "metadata": {},
   "outputs": [
    {
     "name": "stdout",
     "output_type": "stream",
     "text": [
      "<class 'pandas.core.frame.DataFrame'>\n",
      "RangeIndex: 3387 entries, 0 to 3386\n",
      "Data columns (total 5 columns):\n",
      " #   Column          Non-Null Count  Dtype  \n",
      "---  ------          --------------  -----  \n",
      " 0   title           3387 non-null   object \n",
      " 1   studio          3382 non-null   object \n",
      " 2   domestic_gross  3359 non-null   float64\n",
      " 3   foreign_gross   2037 non-null   object \n",
      " 4   year            3387 non-null   int64  \n",
      "dtypes: float64(1), int64(1), object(3)\n",
      "memory usage: 132.4+ KB\n"
     ]
    }
   ],
   "source": [
    "# Check basic structure and data types\n",
    "\n",
    "df.info()"
   ]
  },
  {
   "cell_type": "code",
   "execution_count": 126,
   "metadata": {},
   "outputs": [
    {
     "data": {
      "text/plain": [
       "title                0\n",
       "studio               5\n",
       "domestic_gross      28\n",
       "foreign_gross     1350\n",
       "year                 0\n",
       "dtype: int64"
      ]
     },
     "execution_count": 126,
     "metadata": {},
     "output_type": "execute_result"
    }
   ],
   "source": [
    "df.isnull().sum()"
   ]
  },
  {
   "cell_type": "markdown",
   "metadata": {},
   "source": [
    "### Checking for Duplicates\n",
    "\n",
    "We use `df.duplicated().sum()` to check for duplicate values."
   ]
  },
  {
   "cell_type": "code",
   "execution_count": 127,
   "metadata": {},
   "outputs": [
    {
     "data": {
      "text/plain": [
       "0"
      ]
     },
     "execution_count": 127,
     "metadata": {},
     "output_type": "execute_result"
    }
   ],
   "source": [
    "df.duplicated().sum()"
   ]
  },
  {
   "cell_type": "markdown",
   "metadata": {},
   "source": [
    "## Data Preparation\n",
    "\n",
    "Here I will be preparing the data by;\n",
    "\n",
    "- Cleaning the **foreign_gross** column.\n",
    "- Cleaning the **domestic_gross** column\n",
    "- Ensuring correct data types and clean strings.\n",
    "- Dropping the current **total_gross** column then re-creating it using **domestic_gross** + **foreign_gross**.\n",
    "- Handling missing values.\n",
    "- Strip Whitespace in String Columns"
   ]
  },
  {
   "cell_type": "markdown",
   "metadata": {},
   "source": [
    "###  Cleaning foreign_gross Column\n",
    "\n",
    "I will remove Remove commas/whitespace and convert the column to numeric."
   ]
  },
  {
   "cell_type": "code",
   "execution_count": 128,
   "metadata": {},
   "outputs": [],
   "source": [
    "# Remove commas/whitespace and convert to numeric\n",
    "df['foreign_gross'] = (\n",
    "    df['foreign_gross']\n",
    "    .astype(str)\n",
    "    .str.replace(',', '', regex=False)\n",
    "    .str.strip()\n",
    "    .replace('nan', pd.NA)\n",
    ")\n",
    "df['foreign_gross'] = pd.to_numeric(df['foreign_gross'], errors='coerce')"
   ]
  },
  {
   "cell_type": "markdown",
   "metadata": {},
   "source": [
    "### Cleaning domestic_gross column\n",
    "\n",
    "I will Convert domestic_gross to numeric."
   ]
  },
  {
   "cell_type": "code",
   "execution_count": 129,
   "metadata": {},
   "outputs": [],
   "source": [
    "# Convert 'domestic_gross' to numeric\n",
    "df['domestic_gross'] = pd.to_numeric(df['domestic_gross'], errors='coerce')"
   ]
  },
  {
   "cell_type": "markdown",
   "metadata": {},
   "source": [
    "### Ensuring correct data types and clean strings\n",
    "\n",
    "I will Convert 'domestic_gross' to numeric and strip any whitespace."
   ]
  },
  {
   "cell_type": "code",
   "execution_count": 130,
   "metadata": {},
   "outputs": [],
   "source": [
    "# Convert 'domestic_gross' to numeric (just in case) and strip whitespace\n",
    "df['domestic_gross'] = pd.to_numeric(df['domestic_gross'], errors='coerce')\n",
    "df['title'] = df['title'].str.strip()\n",
    "df['studio'] = df['studio'].str.strip()"
   ]
  },
  {
   "cell_type": "markdown",
   "metadata": {},
   "source": [
    "### Handling Missing Values\n",
    "\n",
    "I will drop rows missing any of the key values."
   ]
  },
  {
   "cell_type": "code",
   "execution_count": 131,
   "metadata": {},
   "outputs": [],
   "source": [
    "df_cleaned = df.dropna(subset=['domestic_gross', 'foreign_gross', 'studio'])"
   ]
  },
  {
   "cell_type": "markdown",
   "metadata": {},
   "source": [
    "### Dropping the current **total_gross** column then re-creating it using **domestic_gross** + **foreign_gross**\n",
    "\n",
    "I will Drop the existing total_gross column. Then recalculate total_gross from cleaned columns."
   ]
  },
  {
   "cell_type": "code",
   "execution_count": 132,
   "metadata": {},
   "outputs": [],
   "source": [
    "# Drop the existing total_gross column\n",
    "df = df.drop(columns='total_gross', errors='ignore')"
   ]
  },
  {
   "cell_type": "code",
   "execution_count": 133,
   "metadata": {},
   "outputs": [],
   "source": [
    "# Recalculate total_gross from cleaned columns\n",
    "df_cleaned['total_gross'] = df_cleaned['domestic_gross'] + df_cleaned['foreign_gross']"
   ]
  },
  {
   "cell_type": "code",
   "execution_count": 134,
   "metadata": {},
   "outputs": [
    {
     "data": {
      "text/html": [
       "<div>\n",
       "<style scoped>\n",
       "    .dataframe tbody tr th:only-of-type {\n",
       "        vertical-align: middle;\n",
       "    }\n",
       "\n",
       "    .dataframe tbody tr th {\n",
       "        vertical-align: top;\n",
       "    }\n",
       "\n",
       "    .dataframe thead th {\n",
       "        text-align: right;\n",
       "    }\n",
       "</style>\n",
       "<table border=\"1\" class=\"dataframe\">\n",
       "  <thead>\n",
       "    <tr style=\"text-align: right;\">\n",
       "      <th></th>\n",
       "      <th>title</th>\n",
       "      <th>studio</th>\n",
       "      <th>domestic_gross</th>\n",
       "      <th>foreign_gross</th>\n",
       "      <th>year</th>\n",
       "      <th>total_gross</th>\n",
       "    </tr>\n",
       "  </thead>\n",
       "  <tbody>\n",
       "    <tr>\n",
       "      <th>0</th>\n",
       "      <td>Toy Story 3</td>\n",
       "      <td>BV</td>\n",
       "      <td>415000000.0</td>\n",
       "      <td>652000000.0</td>\n",
       "      <td>2010</td>\n",
       "      <td>1.067000e+09</td>\n",
       "    </tr>\n",
       "    <tr>\n",
       "      <th>1</th>\n",
       "      <td>Alice in Wonderland (2010)</td>\n",
       "      <td>BV</td>\n",
       "      <td>334200000.0</td>\n",
       "      <td>691300000.0</td>\n",
       "      <td>2010</td>\n",
       "      <td>1.025500e+09</td>\n",
       "    </tr>\n",
       "    <tr>\n",
       "      <th>2</th>\n",
       "      <td>Harry Potter and the Deathly Hallows Part 1</td>\n",
       "      <td>WB</td>\n",
       "      <td>296000000.0</td>\n",
       "      <td>664300000.0</td>\n",
       "      <td>2010</td>\n",
       "      <td>9.603000e+08</td>\n",
       "    </tr>\n",
       "    <tr>\n",
       "      <th>3</th>\n",
       "      <td>Inception</td>\n",
       "      <td>WB</td>\n",
       "      <td>292600000.0</td>\n",
       "      <td>535700000.0</td>\n",
       "      <td>2010</td>\n",
       "      <td>8.283000e+08</td>\n",
       "    </tr>\n",
       "    <tr>\n",
       "      <th>4</th>\n",
       "      <td>Shrek Forever After</td>\n",
       "      <td>P/DW</td>\n",
       "      <td>238700000.0</td>\n",
       "      <td>513900000.0</td>\n",
       "      <td>2010</td>\n",
       "      <td>7.526000e+08</td>\n",
       "    </tr>\n",
       "    <tr>\n",
       "      <th>...</th>\n",
       "      <td>...</td>\n",
       "      <td>...</td>\n",
       "      <td>...</td>\n",
       "      <td>...</td>\n",
       "      <td>...</td>\n",
       "      <td>...</td>\n",
       "    </tr>\n",
       "    <tr>\n",
       "      <th>3275</th>\n",
       "      <td>I Still See You</td>\n",
       "      <td>LGF</td>\n",
       "      <td>1400.0</td>\n",
       "      <td>1500000.0</td>\n",
       "      <td>2018</td>\n",
       "      <td>1.501400e+06</td>\n",
       "    </tr>\n",
       "    <tr>\n",
       "      <th>3286</th>\n",
       "      <td>The Catcher Was a Spy</td>\n",
       "      <td>IFC</td>\n",
       "      <td>725000.0</td>\n",
       "      <td>229000.0</td>\n",
       "      <td>2018</td>\n",
       "      <td>9.540000e+05</td>\n",
       "    </tr>\n",
       "    <tr>\n",
       "      <th>3309</th>\n",
       "      <td>Time Freak</td>\n",
       "      <td>Grindstone</td>\n",
       "      <td>10000.0</td>\n",
       "      <td>256000.0</td>\n",
       "      <td>2018</td>\n",
       "      <td>2.660000e+05</td>\n",
       "    </tr>\n",
       "    <tr>\n",
       "      <th>3342</th>\n",
       "      <td>Reign of Judges: Title of Liberty - Concept Short</td>\n",
       "      <td>Darin Southa</td>\n",
       "      <td>93200.0</td>\n",
       "      <td>5200.0</td>\n",
       "      <td>2018</td>\n",
       "      <td>9.840000e+04</td>\n",
       "    </tr>\n",
       "    <tr>\n",
       "      <th>3353</th>\n",
       "      <td>Antonio Lopez 1970: Sex Fashion &amp; Disco</td>\n",
       "      <td>FM</td>\n",
       "      <td>43200.0</td>\n",
       "      <td>30000.0</td>\n",
       "      <td>2018</td>\n",
       "      <td>7.320000e+04</td>\n",
       "    </tr>\n",
       "  </tbody>\n",
       "</table>\n",
       "<p>2007 rows × 6 columns</p>\n",
       "</div>"
      ],
      "text/plain": [
       "                                                  title        studio  \\\n",
       "0                                           Toy Story 3            BV   \n",
       "1                            Alice in Wonderland (2010)            BV   \n",
       "2           Harry Potter and the Deathly Hallows Part 1            WB   \n",
       "3                                             Inception            WB   \n",
       "4                                   Shrek Forever After          P/DW   \n",
       "...                                                 ...           ...   \n",
       "3275                                    I Still See You           LGF   \n",
       "3286                              The Catcher Was a Spy           IFC   \n",
       "3309                                         Time Freak    Grindstone   \n",
       "3342  Reign of Judges: Title of Liberty - Concept Short  Darin Southa   \n",
       "3353            Antonio Lopez 1970: Sex Fashion & Disco            FM   \n",
       "\n",
       "      domestic_gross  foreign_gross  year   total_gross  \n",
       "0        415000000.0    652000000.0  2010  1.067000e+09  \n",
       "1        334200000.0    691300000.0  2010  1.025500e+09  \n",
       "2        296000000.0    664300000.0  2010  9.603000e+08  \n",
       "3        292600000.0    535700000.0  2010  8.283000e+08  \n",
       "4        238700000.0    513900000.0  2010  7.526000e+08  \n",
       "...              ...            ...   ...           ...  \n",
       "3275          1400.0      1500000.0  2018  1.501400e+06  \n",
       "3286        725000.0       229000.0  2018  9.540000e+05  \n",
       "3309         10000.0       256000.0  2018  2.660000e+05  \n",
       "3342         93200.0         5200.0  2018  9.840000e+04  \n",
       "3353         43200.0        30000.0  2018  7.320000e+04  \n",
       "\n",
       "[2007 rows x 6 columns]"
      ]
     },
     "execution_count": 134,
     "metadata": {},
     "output_type": "execute_result"
    }
   ],
   "source": [
    "df_cleaned"
   ]
  },
  {
   "cell_type": "code",
   "execution_count": 135,
   "metadata": {},
   "outputs": [
    {
     "data": {
      "text/plain": [
       "title             0\n",
       "studio            0\n",
       "domestic_gross    0\n",
       "foreign_gross     0\n",
       "year              0\n",
       "total_gross       0\n",
       "dtype: int64"
      ]
     },
     "execution_count": 135,
     "metadata": {},
     "output_type": "execute_result"
    }
   ],
   "source": [
    "# Check remaining missing values\n",
    "df_cleaned.isna().sum()"
   ]
  },
  {
   "cell_type": "code",
   "execution_count": 136,
   "metadata": {},
   "outputs": [],
   "source": [
    "df_cleaned.to_csv('cleaned_movie_gross.csv', index=False)"
   ]
  },
  {
   "cell_type": "markdown",
   "metadata": {},
   "source": [
    "## Linear Regression Modelling\n",
    "\n",
    "In this section I will create a linear regression model for the objectives set above. "
   ]
  },
  {
   "cell_type": "markdown",
   "metadata": {},
   "source": [
    "### Predict Domestic Gross Using Studio and Year\n",
    "\n",
    "- The goal is to estimate how much a movie earns in the U.S. based on its **studio** and **year**."
   ]
  },
  {
   "cell_type": "code",
   "execution_count": 137,
   "metadata": {},
   "outputs": [],
   "source": [
    "import statsmodels.api as sm\n",
    "from scipy import stats\n",
    "from sklearn.model_selection import train_test_split\n",
    "from sklearn.linear_model import LinearRegression\n",
    "from sklearn.metrics import r2_score, mean_squared_error\n"
   ]
  },
  {
   "cell_type": "code",
   "execution_count": 138,
   "metadata": {},
   "outputs": [
    {
     "name": "stdout",
     "output_type": "stream",
     "text": [
      "R² Score: 0.280511847150112\n",
      "Mean Squared Error: 7354666959989772.0\n"
     ]
    }
   ],
   "source": [
    "# Keep only studios with at least 10 movies\n",
    "top_studios = df_cleaned['studio'].value_counts()\n",
    "top_studios = top_studios[top_studios >= 10].index\n",
    "\n",
    "# Filter the DataFrame\n",
    "df_obj1 = df_cleaned[df_cleaned['studio'].isin(top_studios)]\n",
    "\n",
    "# One-hot encode 'studio', include 'year'\n",
    "X1 = pd.get_dummies(df_obj1[['studio', 'year']], drop_first=True)\n",
    "y1 = df_obj1['domestic_gross']\n",
    "\n",
    "# Split the data into training amd testing sets\n",
    "X1_train, X1_test, y1_train, y1_test = train_test_split(X1, y1, test_size=0.2, random_state=42)\n",
    "\n",
    "# Train the model\n",
    "model1 = LinearRegression()\n",
    "model1.fit(X1_train, y1_train)\n",
    "\n",
    "# Evaluate the model\n",
    "# Predict on test set\n",
    "y1_pred = model1.predict(X1_test)\n",
    "\n",
    "# Evaluate the model\n",
    "print(\"R² Score:\", r2_score(y1_test, y1_pred))\n",
    "print(\"Mean Squared Error:\", mean_squared_error(y1_test, y1_pred))"
   ]
  },
  {
   "cell_type": "code",
   "execution_count": 152,
   "metadata": {},
   "outputs": [
    {
     "data": {
      "image/png": "[encoded data removed]",
      "text/plain": [
       "<Figure size 576x432 with 1 Axes>"
      ]
     },
     "metadata": {
      "needs_background": "light"
     },
     "output_type": "display_data"
    }
   ],
   "source": [
    "# Create a new figure for the plot with a defined size\n",
    "plt.figure(figsize=(8, 6))\n",
    "\n",
    "# Create a scatter plot of actual vs predicted domestic gross\n",
    "plt.scatter(y1_test, y1_pred, alpha=0.5)\n",
    "\n",
    "# Plot dashed line that shows what perfect predictions would look like\n",
    "plt.plot([y1_test.min(), y1_test.max()],\n",
    "         [y1_test.min(), y1_test.max()],\n",
    "         'r--', label='Perfect Prediction')\n",
    "\n",
    "# Label the X-axis with the true domestic gross values\n",
    "plt.xlabel('Actual Domestic Gross')\n",
    "\n",
    "# Label the Y-axis with the predicted domestic gross values\n",
    "plt.ylabel('Predicted Domestic Gross')\n",
    "\n",
    "# Add a title to describe what the chart is showing\n",
    "plt.title('Actual vs Predicted Domestic Gross (Objective 1)')\n",
    "\n",
    "# Add grid lines to improve readability\n",
    "plt.grid(True)\n",
    "\n",
    "# Show the legend \n",
    "plt.legend()\n",
    "\n",
    "# Save visualization\n",
    "plt.savefig('objective1__actual_vs_predicted_domestic_gros.png', dpi=300, bbox_inches='tight')\n",
    "\n",
    "# Display the final plot\n",
    "plt.show()"
   ]
  },
  {
   "cell_type": "markdown",
   "metadata": {},
   "source": [
    "###  Predict Foreign Gross from Domestic Gross\n",
    "\n",
    "The goal is to use domestic earnings to predict international success."
   ]
  },
  {
   "cell_type": "code",
   "execution_count": 140,
   "metadata": {},
   "outputs": [
    {
     "name": "stdout",
     "output_type": "stream",
     "text": [
      "Objective 2 R²: 0.6994894672594614\n"
     ]
    }
   ],
   "source": [
    "# Select the feature: 'domestic_gross' will be used to predict foreign gross\n",
    "X2 = df_cleaned[['domestic_gross']]\n",
    "\n",
    "# Select the target variable: 'foreign_gross' is what we're trying to predict\n",
    "y2 = df_cleaned['foreign_gross']\n",
    "\n",
    "# Split the data into training and testing sets (80% train, 20% test)\n",
    "# This ensures the model is evaluated on unseen data\n",
    "X2_train, X2_test, y2_train, y2_test = train_test_split(X2, y2, test_size=0.2, random_state=42)\n",
    "\n",
    "# Initialize the linear regression model\n",
    "model2 = LinearRegression()\n",
    "\n",
    "# Train the model using the training data\n",
    "model2.fit(X2_train, y2_train)\n",
    "\n",
    "# Predict foreign gross using the test data\n",
    "y2_pred = model2.predict(X2_test)\n",
    "\n",
    "# Evaluate the model using R² score (how well domestic gross predicts foreign gross)\n",
    "print(\"Objective 2 R²:\", r2_score(y2_test, y2_pred))"
   ]
  },
  {
   "cell_type": "code",
   "execution_count": 151,
   "metadata": {},
   "outputs": [
    {
     "data": {
      "image/png": "[encoded data removed]",
      "text/plain": [
       "<Figure size 576x432 with 1 Axes>"
      ]
     },
     "metadata": {
      "needs_background": "light"
     },
     "output_type": "display_data"
    }
   ],
   "source": [
    "plt.figure(figsize=(8, 6))  # Set figure size\n",
    "\n",
    "# Scatter plot of actual vs predicted values\n",
    "plt.scatter(y2_test, y2_pred, alpha=0.5)\n",
    "\n",
    "# Add a reference line \n",
    "# If all predictions were perfect, all points would fall on this line\n",
    "plt.plot([y2_test.min(), y2_test.max()],\n",
    "         [y2_test.min(), y2_test.max()],\n",
    "         'r--', label='Perfect Prediction')\n",
    "\n",
    "# Label the axes\n",
    "plt.xlabel('Actual Foreign Gross')\n",
    "plt.ylabel('Predicted Foreign Gross')\n",
    "\n",
    "# Add a title to the plot\n",
    "plt.title('Actual vs Predicted Foreign Gross (Objective 2)')\n",
    "\n",
    "# save visualization\n",
    "plt.savefig('objective2_actual_vs_predicted_foreign_gross', dpi=300, bbox_inches='tight')\n",
    "\n",
    "# Show visualization\n",
    "plt.show()"
   ]
  },
  {
   "cell_type": "markdown",
   "metadata": {},
   "source": [
    "###  Predict Total Gross Using All Numeric Features\n",
    "\n",
    "The goal is to forecast full revenue using available numeric data."
   ]
  },
  {
   "cell_type": "code",
   "execution_count": 142,
   "metadata": {},
   "outputs": [
    {
     "name": "stdout",
     "output_type": "stream",
     "text": [
      "Objective 3 R²: 0.2712448701958182\n",
      "Mean Squared Error: 4.200407624467504e+16\n"
     ]
    }
   ],
   "source": [
    "\n",
    "# Keep only studios with at least 10 movies\n",
    "top_studios = df_cleaned['studio'].value_counts()\n",
    "top_studios = top_studios[top_studios >= 10].index\n",
    "\n",
    "# Filter the DataFrame to include only those studios\n",
    "df_obj3 = df_cleaned[df_cleaned['studio'].isin(top_studios)]\n",
    "\n",
    "# One-hot encode the 'studio' column and include the 'year'\n",
    "X3_realistic = pd.get_dummies(df_obj3[['studio', 'year']], drop_first=True)\n",
    "\n",
    "# Target variable: total box office revenue\n",
    "y3_realistic = df_obj3['total_gross']\n",
    "\n",
    "# Split the data into training and testing sets (80/20 split)\n",
    "X3_train, X3_test, y3_train, y3_test = train_test_split(X3_realistic, y3_realistic, test_size=0.2, random_state=42)\n",
    "\n",
    "# Initialize and train the linear regression model\n",
    "model3_realistic = LinearRegression()\n",
    "model3_realistic.fit(X3_train, y3_train)\n",
    "\n",
    "# Predict total gross on the test set\n",
    "y3_pred = model3_realistic.predict(X3_test)\n",
    "\n",
    "# Evaluate the model\n",
    "print(\"Objective 3 R²:\", r2_score(y3_test, y3_pred))\n",
    "print(\"Mean Squared Error:\", mean_squared_error(y3_test, y3_pred))"
   ]
  },
  {
   "cell_type": "code",
   "execution_count": 150,
   "metadata": {},
   "outputs": [
    {
     "data": {
      "image/png": "[encoded data removed]",
      "text/plain": [
       "<Figure size 720x432 with 1 Axes>"
      ]
     },
     "metadata": {
      "needs_background": "light"
     },
     "output_type": "display_data"
    }
   ],
   "source": [
    "# Create a DataFrame to match feature names to model coefficients\n",
    "coef_df = pd.DataFrame({\n",
    "    'Feature': X3_realistic.columns,\n",
    "    'Coefficient': model3_realistic.coef_\n",
    "})\n",
    "\n",
    "# Sort by impact\n",
    "coef_df = coef_df.sort_values(by='Coefficient', ascending=False)\n",
    "\n",
    "# Plot top 10 positive impact features (e.g., big studios, strong years)\n",
    "plt.figure(figsize=(10, 6))\n",
    "sns.barplot(x='Coefficient', y='Feature', data=coef_df.head(10), palette='viridis')\n",
    "plt.title('Top 10 Features Positively Affecting Total Gross')\n",
    "plt.xlabel('Coefficient Value')\n",
    "plt.ylabel('Feature (Studio or Year)')\n",
    "plt.grid(True)\n",
    "\n",
    "# save visualization\n",
    "plt.savefig('objective3_top10_features_positively_affecting_total_gross.png', dpi=300, bbox_inches='tight')\n",
    "\n",
    "# Show Visualization\n",
    "plt.show()"
   ]
  },
  {
   "cell_type": "markdown",
   "metadata": {},
   "source": [
    "### Analyze Domestic Revenue Trend Over Time\n",
    "\n",
    "The goal is to check whether domestic revenue is increasing or decreasing across years."
   ]
  },
  {
   "cell_type": "code",
   "execution_count": 144,
   "metadata": {},
   "outputs": [
    {
     "name": "stdout",
     "output_type": "stream",
     "text": [
      "Objective 4 R²: 0.027253426852850926\n"
     ]
    }
   ],
   "source": [
    "# Select the feature: 'year' to assess how revenue changes over time\n",
    "X4 = df_cleaned[['year']]\n",
    "\n",
    "# Set the target: domestic gross revenue\n",
    "y4 = df_cleaned['domestic_gross']\n",
    "\n",
    "# Split the dataset into training (80%) and testing (20%) sets\n",
    "X4_train, X4_test, y4_train, y4_test = train_test_split(X4, y4, test_size=0.2, random_state=42)\n",
    "\n",
    "# Initialize a linear regression model\n",
    "model4 = LinearRegression()\n",
    "\n",
    "# Train the model using the training data\n",
    "model4.fit(X4_train, y4_train)\n",
    "\n",
    "# Predict domestic gross using the model and the test set\n",
    "y4_pred = model4.predict(X4_test)\n",
    "\n",
    "# Evaluate how well 'year' alone predicts domestic gross using R² score\n",
    "print(\"Objective 4 R²:\", r2_score(y4_test, y4_pred))"
   ]
  },
  {
   "cell_type": "code",
   "execution_count": 149,
   "metadata": {},
   "outputs": [
    {
     "data": {
      "image/png": "[encoded data removed]",
      "text/plain": [
       "<Figure size 720x432 with 1 Axes>"
      ]
     },
     "metadata": {
      "needs_background": "light"
     },
     "output_type": "display_data"
    }
   ],
   "source": [
    "df_cleaned.groupby('year')['domestic_gross'].mean().plot(kind='bar', figsize=(10,6), title='Average Domestic Gross by Year')\n",
    "plt.ylabel('Mean Domestic Gross')\n",
    "plt.grid(True)\n",
    "\n",
    "# save visualization\n",
    "plt.savefig('objective4_average_domestic_gross_by_year.png', dpi=300, bbox_inches='tight')\n",
    "\n",
    "# show visualization\n",
    "plt.show()"
   ]
  },
  {
   "cell_type": "markdown",
   "metadata": {},
   "source": [
    "###  Predict Total Gross While Controlling for Studio and Year\n",
    "\n",
    "The goal is to estimate total revenue ehile isolating the impact of studio."
   ]
  },
  {
   "cell_type": "code",
   "execution_count": 146,
   "metadata": {},
   "outputs": [
    {
     "name": "stdout",
     "output_type": "stream",
     "text": [
      "Objective 5 R²: 0.2712448701958182\n",
      "Mean Squared Error: 4.200407624467504e+16\n"
     ]
    }
   ],
   "source": [
    "# Filter studios that have at least 10 movies to avoid noise from rare studios\n",
    "top_studios = df_cleaned['studio'].value_counts()\n",
    "top_studios = top_studios[top_studios >= 10].index\n",
    "df_obj5 = df_cleaned[df_cleaned['studio'].isin(top_studios)]\n",
    "\n",
    "# Define features\n",
    "X5 = pd.get_dummies(df_obj5[['studio', 'year']], drop_first=True)\n",
    "\n",
    "# Target variable is total_gross\n",
    "y5 = df_obj5['total_gross']\n",
    "\n",
    "# Split the data into training and test sets\n",
    "X5_train, X5_test, y5_train, y5_test = train_test_split(X5, y5, test_size=0.2, random_state=42)\n",
    "\n",
    "# Initialize and train the linear regression model\n",
    "model5 = LinearRegression()\n",
    "model5.fit(X5_train, y5_train)\n",
    "\n",
    "# Predict on test set and evaluate\n",
    "y5_pred = model5.predict(X5_test)\n",
    "\n",
    "# Evaluate performance using R² and Mean Squared Error\n",
    "print(\"Objective 5 R²:\", r2_score(y5_test, y5_pred))\n",
    "print(\"Mean Squared Error:\", mean_squared_error(y5_test, y5_pred))\n"
   ]
  },
  {
   "cell_type": "code",
   "execution_count": 148,
   "metadata": {},
   "outputs": [
    {
     "data": {
      "image/png": "[encoded data removed]",
      "text/plain": [
       "<Figure size 576x432 with 1 Axes>"
      ]
     },
     "metadata": {
      "needs_background": "light"
     },
     "output_type": "display_data"
    }
   ],
   "source": [
    "# Calculate residuals (difference between actual and predicted values)\n",
    "residuals = y5_test - y5_pred\n",
    "\n",
    "# Create the histogram\n",
    "plt.figure(figsize=(8, 6))\n",
    "sns.histplot(residuals, bins=30, kde=True, color='teal')\n",
    "\n",
    "# Label the plot\n",
    "plt.title('Distribution of Residuals (Refactored Objective 5)')\n",
    "plt.xlabel('Residual (Actual - Predicted Total Gross)')\n",
    "plt.ylabel('Frequency')\n",
    "\n",
    "# Add a vertical line at 0 to represent perfect predictions\n",
    "plt.axvline(0, color='red', linestyle='--', label='Perfect Prediction')\n",
    "\n",
    "# Show legend and grid\n",
    "plt.legend()\n",
    "plt.grid(True)\n",
    "\n",
    "# save visualization\n",
    "plt.savefig('objective5_total_gross_prediction.png', dpi=300, bbox_inches='tight')\n",
    "\n",
    "# Display the plot\n",
    "plt.show()"
   ]
  },
  {
   "cell_type": "markdown",
   "metadata": {},
   "source": [
    "# Key Findings\n",
    "\n",
    "## 1. Predict Domestic Gross Using Studio and Year\n",
    "\n",
    "- R² Score = 0.2805 the model explains 28% of the variation in U.S. domestic gross revenue using only **studio** and **year**.\n",
    "- Domestic box office earnings are partially predictable based on studio reputation and timing, with 28% of revenue variation explained by these features.\n",
    "\n",
    "## 2. Predict Foreign Gross from Domestic Gross\n",
    "\n",
    "- Objective 2 R²: 0.6994894672594614 means that about 70% of the variance in **foreign gross** is explained by **domestic gross.**\n",
    "- Based on past data, a movie’s domestic box office performance is a strong predictor of its international success, explaining roughly 70% of the variation in foreign gross revenue\n",
    "\n",
    "## 3. Predict Total Gross Using All Numeric Features\n",
    "\n",
    "- Objective 3 R²: 0.2712448701958182 the model explains about 27% of the variation in total_gross using just studio and year.\n",
    "- Before a movie is released, knowing the **studio** and **year** gives us a moderate ability to predict its total gross revenue. These two factors alone explain about 27% of box office performance, suggesting brand power and release timing matter — but more factors are needed for strong predictions.\n",
    "\n",
    "## 4. Analyze Domestic Revenue Trend Over Time\n",
    "\n",
    "- Objective 4 R²: 0.027253426852850926 means that only 2.7% of the variance in domestic gross is explained by the **year** of release. This means year alone is a very weak predictor of how much a movie earns domestically. The trend is likely noisy, with high-earning and low-earning films in every year.\n",
    "\n",
    "- There is no meaningful upward or downward trend in domestic box office revenue across the years 2010–2018. Other factors (like genre, cast, marketing, or competition) are likely much more influential than release year alone.\n",
    "\n",
    "## 5. Predict Total Gross While Controlling for Studio and Year\n",
    "\n",
    "- Objective 5 R²: 0.2712448701958182 the model explains about 27% of the variation in total_gross using only studio and year.\n",
    "- With only the **studio** and **year** available before launch, we can forecast a movie’s global revenue with moderate confidence. This insight is valuable for initial budgeting, marketing expectations, and risk planning"
   ]
  },
  {
   "cell_type": "markdown",
   "metadata": {},
   "source": [
    "# Conclusion\n",
    "\n",
    "This analysis explored key factors influencing box office performance using linear regression models. Our findings show that **studio reputation** and **release year** moderately predict **domestic and total gross revenues**, explaining around 27–28% of their variation. Notably, **domestic box office performance** is a strong predictor of foreign revenue, with a model explaining nearly 70% of international earnings, a valuable insight for global forecasting. Conversely, **release year** alone shows little predictive power, indicating that time trends have minimal influence without additional context. These results highlight that while pre-release factors like studio and timing provide useful signals, more detailed data such as genre, cast, and budget is essential for stronger predictive accuracy and strategic planning."
   ]
  },
  {
   "cell_type": "code",
   "execution_count": null,
   "metadata": {},
   "outputs": [],
   "source": []
  }
 ],
 "metadata": {
  "kernelspec": {
   "display_name": "Python (learn-env)",
   "language": "python",
   "name": "learn-env"
  },
  "language_info": {
   "codemirror_mode": {
    "name": "ipython",
    "version": 3
   },
   "file_extension": ".py",
   "mimetype": "text/x-python",
   "name": "python",
   "nbconvert_exporter": "python",
   "pygments_lexer": "ipython3",
   "version": "3.8.5"
  }
 },
 "nbformat": 4,
 "nbformat_minor": 4
}
